{
  "nbformat": 4,
  "nbformat_minor": 0,
  "metadata": {
    "colab": {
      "provenance": []
    },
    "kernelspec": {
      "name": "python3",
      "display_name": "Python 3"
    },
    "language_info": {
      "name": "python"
    },
    "accelerator": "GPU",
    "gpuClass": "standard"
  },
  "cells": [
    {
      "cell_type": "markdown",
      "source": [
        "# Import Dependancies"
      ],
      "metadata": {
        "id": "FsJdp772DKKq"
      }
    },
    {
      "cell_type": "code",
      "execution_count": null,
      "metadata": {
        "id": "PHXDsf62CjCx"
      },
      "outputs": [],
      "source": [
        "import tensorflow as tf\n",
        "import pandas as pd\n",
        "import numpy as np\n",
        "import keras"
      ]
    },
    {
      "cell_type": "code",
      "source": [
        "keras.__version__"
      ],
      "metadata": {
        "id": "y5JjpgRLDP4y"
      },
      "execution_count": null,
      "outputs": []
    },
    {
      "cell_type": "code",
      "source": [
        "tf.__version__"
      ],
      "metadata": {
        "id": "FZntxWoaDhMF"
      },
      "execution_count": null,
      "outputs": []
    },
    {
      "cell_type": "code",
      "source": [
        "print(\"Num GPUs Available: \", len(tf.config.list_physical_devices('GPU')))\n",
        "print(\"Num TPUs Available: \", len(tf.config.list_physical_devices('TPU')))"
      ],
      "metadata": {
        "id": "q54GH9XulvWu"
      },
      "execution_count": null,
      "outputs": []
    },
    {
      "cell_type": "markdown",
      "source": [
        "# Read in the Data "
      ],
      "metadata": {
        "id": "ep1KBSt1Dmci"
      }
    },
    {
      "cell_type": "code",
      "source": [
        "rawData = pd.read_excel(\"Full-Data-Set-UnderOver-2020-21.xlsx\")\n",
        "print(rawData)\n",
        "rawData = rawData.sample(frac=1) #randomize the arrangement of rawData\n",
        "print(rawData)"
      ],
      "metadata": {
        "id": "BUnaJHajDkrm"
      },
      "execution_count": null,
      "outputs": []
    },
    {
      "cell_type": "code",
      "source": [
        "rawData.describe()"
      ],
      "metadata": {
        "id": "ks3rdgFaEFev"
      },
      "execution_count": null,
      "outputs": []
    },
    {
      "cell_type": "markdown",
      "source": [
        "## Filter the data / Remove older seasons"
      ],
      "metadata": {
        "id": "2e7EsO8_Z2VG"
      }
    },
    {
      "cell_type": "markdown",
      "source": [
        "## Clean the Data"
      ],
      "metadata": {
        "id": "MefJrXUvHHJy"
      }
    },
    {
      "cell_type": "code",
      "source": [
        "filteredData = rawData.drop([\"Unnamed: 0\"], axis = 1)\n",
        "filteredData = filteredData.drop([\"Score\"], axis = 1)\n",
        "filteredData = filteredData.drop([\"GP\"], axis = 1)\n",
        "filteredData = filteredData.drop([\"GP.1\"], axis = 1)\n",
        "filteredData = filteredData.drop([\"Home-Team-Win\"], axis = 1)\n",
        "filteredData = filteredData.drop([\"TEAM_NAME\"], axis = 1)\n",
        "filteredData = filteredData.drop([\"Date\"], axis = 1)\n",
        "filteredData = filteredData.drop([\"MIN\"], axis = 1)\n",
        "filteredData = filteredData.drop([\"MIN.1\"], axis = 1)\n",
        "filteredData = filteredData.drop([\"TEAM_NAME.1\"], axis = 1)\n",
        "filteredData = filteredData.drop([\"Date.1\"], axis = 1)\n",
        "filteredData = filteredData.drop([\"OU\"], axis = 1)\n",
        "filteredData = filteredData.drop([\"OU-Cover\"], axis = 1)\n",
        "filteredData = filteredData.drop([\"GP_RANK\"], axis = 1)\n",
        "filteredData = filteredData.drop([\"GP_RANK.1\"], axis = 1)"
      ],
      "metadata": {
        "id": "DQZUrgHUHA3b"
      },
      "execution_count": null,
      "outputs": []
    },
    {
      "cell_type": "code",
      "source": [
        "filteredData = filteredData.astype(float)\n",
        "type(filteredData)"
      ],
      "metadata": {
        "id": "3J8do6LmwzDx",
        "colab": {
          "base_uri": "https://localhost:8080/"
        },
        "outputId": "be7a945d-faf4-4ae4-ae6b-057fa7a266a2"
      },
      "execution_count": null,
      "outputs": [
        {
          "output_type": "execute_result",
          "data": {
            "text/plain": [
              "pandas.core.frame.DataFrame"
            ]
          },
          "metadata": {},
          "execution_count": 70
        }
      ]
    },
    {
      "cell_type": "code",
      "source": [
        "filteredData.head()"
      ],
      "metadata": {
        "id": "Q3ib9ai1Hnzm"
      },
      "execution_count": null,
      "outputs": []
    },
    {
      "cell_type": "markdown",
      "source": [
        "# Train the Model"
      ],
      "metadata": {
        "id": "sAOvw2kOusdd"
      }
    },
    {
      "cell_type": "markdown",
      "source": [
        "#### Get the outputs"
      ],
      "metadata": {
        "id": "kWhlML-GeLgN"
      }
    },
    {
      "cell_type": "code",
      "source": [
        "output = rawData['Home-Team-Win']"
      ],
      "metadata": {
        "id": "NJZxoaf_ucLR"
      },
      "execution_count": null,
      "outputs": []
    },
    {
      "cell_type": "code",
      "source": [
        "#get 80% for training 20% for testing\n",
        "print(len(filteredData))\n",
        "test_len = int(len(filteredData) * 0.8)\n",
        "x_train = filteredData.take(range(test_len))\n",
        "x_test = filteredData.take(range(test_len, len(filteredData)))\n",
        "y_train = output.take(range(test_len))\n",
        "y_test = output.take(range(test_len, len(filteredData)))"
      ],
      "metadata": {
        "id": "nXBxjFR8g7V-",
        "colab": {
          "base_uri": "https://localhost:8080/"
        },
        "outputId": "27947048-98b7-4a6f-8d07-e3a495a7c4b2"
      },
      "execution_count": null,
      "outputs": [
        {
          "output_type": "stream",
          "name": "stdout",
          "text": [
            "16358\n"
          ]
        }
      ]
    },
    {
      "cell_type": "code",
      "source": [
        "model = keras.Sequential()"
      ],
      "metadata": {
        "id": "O_Gg63H4fwCm"
      },
      "execution_count": null,
      "outputs": []
    },
    {
      "cell_type": "code",
      "source": [
        "model.add( tf.keras.layers.Dense(2048, activation='relu', name='input_layer'))\n",
        "model.add( tf.keras.layers.Dense(1024, activation='relu'))\n",
        "model.add( tf.keras.layers.Dense(512, activation='relu'))\n",
        "model.add( tf.keras.layers.Dense(256, activation='relu'))\n",
        "\n",
        "model.add( tf.keras.layers.Dense(\n",
        "    512, input_dim=512,\n",
        "    kernel_initializer='ones',\n",
        "    kernel_regularizer=tf.keras.regularizers.L1(0.0001),\n",
        "    activity_regularizer=tf.keras.regularizers.L2(0.0001)) )\n",
        "\n",
        "model.add( tf.keras.layers.Dense(512, activation='relu'))\n",
        "model.add( tf.keras.layers.Dense(1024, activation='relu'))\n",
        "model.add( tf.keras.layers.Dense(2, activation='softmax', name='output_layer'))"
      ],
      "metadata": {
        "id": "rxSIiK8Dea0T"
      },
      "execution_count": null,
      "outputs": []
    },
    {
      "cell_type": "code",
      "source": [
        "model.build( x_train.shape )\n",
        "model.summary()"
      ],
      "metadata": {
        "id": "G98ljKwHf43I"
      },
      "execution_count": null,
      "outputs": []
    },
    {
      "cell_type": "code",
      "source": [
        "model.compile( optimizer='adam', loss='sparse_categorical_crossentropy', metrics=['accuracy'] )"
      ],
      "metadata": {
        "id": "kQWah4KxgXiD"
      },
      "execution_count": null,
      "outputs": []
    },
    {
      "cell_type": "code",
      "source": [
        "import random\n",
        "model.fit(x_train, y_train, epochs=500, batch_size=random.randint(2000,5000))"
      ],
      "metadata": {
        "id": "HVaJA-BYgb8r"
      },
      "execution_count": null,
      "outputs": []
    },
    {
      "cell_type": "code",
      "source": [
        "predictions = model.predict([x_test])"
      ],
      "metadata": {
        "id": "cPaTuHBtuByU",
        "colab": {
          "base_uri": "https://localhost:8080/"
        },
        "outputId": "e59c1b94-b6e4-498f-81a6-5f2a5d0d203a"
      },
      "execution_count": null,
      "outputs": [
        {
          "output_type": "stream",
          "name": "stdout",
          "text": [
            "103/103 [==============================] - 0s 2ms/step\n"
          ]
        }
      ]
    },
    {
      "cell_type": "markdown",
      "source": [
        "# Save the Model"
      ],
      "metadata": {
        "id": "sVmwr3oOu4Fo"
      }
    },
    {
      "cell_type": "code",
      "source": [
        "model.save('model')"
      ],
      "metadata": {
        "id": "8uOM9w7iuv-B"
      },
      "execution_count": null,
      "outputs": []
    }
  ]
}